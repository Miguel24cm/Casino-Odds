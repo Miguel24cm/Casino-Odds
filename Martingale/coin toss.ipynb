{
 "cells": [
  {
   "cell_type": "code",
   "execution_count": 1,
   "metadata": {},
   "outputs": [
    {
     "name": "stdout",
     "output_type": "stream",
     "text": [
      "dinero 100000000 win 49998618 loss 50001382 max 536870882 consecutive loss 27\n",
      "25002568\n",
      "Counter({1: 12504129, 2: 6248356, 3: 3125666, 4: 1561614, 5: 781714, 6: 390452, 7: 195598, 8: 96960, 9: 48841, 10: 24589, 11: 12365, 12: 6207, 13: 3096, 14: 1485, 15: 757, 16: 364, 17: 194, 18: 79, 19: 52, 20: 26, 21: 11, 23: 4, 22: 4, 25: 2, 24: 2, 27: 1})\n"
     ]
    },
    {
     "data": {
      "image/png": "[encoded data removed]",
      "text/plain": [
       "<Figure size 1000x500 with 1 Axes>"
      ]
     },
     "metadata": {},
     "output_type": "display_data"
    }
   ],
   "source": [
    "import random\n",
    "import matplotlib.pyplot as plt\n",
    "from collections import Counter\n",
    "\n",
    "consl = 0\n",
    "tempconsl = 0\n",
    "i = 1\n",
    "win = 0\n",
    "loss = 0\n",
    "apuesta = 1\n",
    "max = 0\n",
    "tempmax = 0\n",
    "dinero = 0\n",
    "all_consecutive_losses = []\n",
    "\n",
    "while i <= 100000000:\n",
    "    if random.choice([True, False]):\n",
    "        win += 1\n",
    "        dinero += apuesta\n",
    "        tempmax = 1\n",
    "        if tempconsl > 0:\n",
    "            all_consecutive_losses.append(tempconsl)  # Store the loss streak\n",
    "        tempconsl = 0\n",
    "        # print(apuesta)\n",
    "        apuesta = 1\n",
    "    else:\n",
    "        loss += 1\n",
    "        dinero -= apuesta\n",
    "        apuesta += apuesta + 1\n",
    "        tempmax += apuesta\n",
    "        if tempmax > max:\n",
    "            max = tempmax\n",
    "        tempconsl += 1\n",
    "        if tempconsl > consl:\n",
    "            consl = tempconsl\n",
    "        # print(\"lost\")\n",
    "    i += 1\n",
    "print(\"dinero\", dinero, \"win\", win, \"loss\", loss, \"max\", max, \"consecutive loss\", consl)\n",
    "#print(\"All consecutive loss streaks:\", all_consecutive_losses)\n",
    "print(len(all_consecutive_losses))\n",
    "\n",
    "# Count occurrences of each loss streak\n",
    "loss_streak_counts = Counter(all_consecutive_losses)\n",
    "loss_lengths = list(loss_streak_counts.keys())\n",
    "frequencies = list(loss_streak_counts.values())\n",
    "print(loss_streak_counts)\n",
    "\n",
    "# Plot the frequency of loss streaks\n",
    "plt.figure(figsize=(10,5))\n",
    "plt.bar(loss_lengths, frequencies, color='r')\n",
    "plt.xlabel(\"Consecutive Losses\")\n",
    "plt.ylabel(\"Frequency\")\n",
    "plt.title(\"Frequency of Consecutive Loss Streaks\")\n",
    "plt.grid(axis='y')\n",
    "plt.show()"
   ]
  },
  {
   "cell_type": "code",
   "execution_count": 88,
   "metadata": {},
   "outputs": [
    {
     "data": {
      "text/plain": [
       "0.2159"
      ]
     },
     "execution_count": 88,
     "metadata": {},
     "output_type": "execute_result"
    }
   ],
   "source": [
    "import numpy as np\n",
    "\n",
    "def simulate_coin_flips(trials=100000, flips=500, streak=10):\n",
    "    success_count = 0\n",
    "\n",
    "    for _ in range(trials):\n",
    "        # Simulate 50 coin flips (1 = Heads, 0 = Tails)\n",
    "        coin_flips = np.random.randint(0, 2, flips)\n",
    "\n",
    "        # Check if there is a streak of 10 consecutive heads (1s)\n",
    "        for i in range(flips - streak + 2):\n",
    "            if np.all(coin_flips[i:i + streak] == 1):\n",
    "                success_count += 1\n",
    "                break  # No need to check further in this trial\n",
    "\n",
    "    return success_count / trials\n",
    "\n",
    "# Run simulation\n",
    "probability_estimate = simulate_coin_flips()\n",
    "probability_estimate\n"
   ]
  },
  {
   "cell_type": "code",
   "execution_count": 60,
   "metadata": {},
   "outputs": [
    {
     "name": "stdout",
     "output_type": "stream",
     "text": [
      "[0 0 1 0 1 0 0 0 1 1 1 1 0 0 1 0 0 0 1 1 1 0 0 0 1 1 0 0 1 1 0 1 0 1 0 0 1\n",
      " 0 1 1 1 1 0 1 0 1 0 0 1 1]\n"
     ]
    }
   ],
   "source": [
    "coin_flips = np.random.randint(0, 2, 50)\n",
    "print(coin_flips)"
   ]
  },
  {
   "cell_type": "code",
   "execution_count": 67,
   "metadata": {},
   "outputs": [
    {
     "ename": "TypeError",
     "evalue": "'int' object is not callable",
     "output_type": "error",
     "traceback": [
      "\u001b[1;31m---------------------------------------------------------------------------\u001b[0m",
      "\u001b[1;31mTypeError\u001b[0m                                 Traceback (most recent call last)",
      "Cell \u001b[1;32mIn[67], line 26\u001b[0m\n\u001b[0;32m     23\u001b[0m     \u001b[38;5;28;01mreturn\u001b[39;00m success_count \u001b[38;5;241m/\u001b[39m trials\n\u001b[0;32m     25\u001b[0m \u001b[38;5;66;03m# Run simulation for no more than 3 consecutive heads\u001b[39;00m\n\u001b[1;32m---> 26\u001b[0m probability_no_long_streaks \u001b[38;5;241m=\u001b[39m \u001b[43msimulate_limited_streaks\u001b[49m\u001b[43m(\u001b[49m\u001b[43m)\u001b[49m\n\u001b[0;32m     27\u001b[0m probability_no_long_streaks\n",
      "Cell \u001b[1;32mIn[67], line 15\u001b[0m, in \u001b[0;36msimulate_limited_streaks\u001b[1;34m(trials, flips, max_streak)\u001b[0m\n\u001b[0;32m     13\u001b[0m \u001b[38;5;28;01mif\u001b[39;00m flip \u001b[38;5;241m==\u001b[39m \u001b[38;5;241m1\u001b[39m:  \u001b[38;5;66;03m# If heads\u001b[39;00m\n\u001b[0;32m     14\u001b[0m     current_streak \u001b[38;5;241m+\u001b[39m\u001b[38;5;241m=\u001b[39m \u001b[38;5;241m1\u001b[39m\n\u001b[1;32m---> 15\u001b[0m     longest_streak \u001b[38;5;241m=\u001b[39m \u001b[38;5;28;43mmax\u001b[39;49m\u001b[43m(\u001b[49m\u001b[43mlongest_streak\u001b[49m\u001b[43m,\u001b[49m\u001b[43m \u001b[49m\u001b[43mcurrent_streak\u001b[49m\u001b[43m)\u001b[49m\n\u001b[0;32m     16\u001b[0m \u001b[38;5;28;01melse\u001b[39;00m:  \u001b[38;5;66;03m# If tails, reset streak\u001b[39;00m\n\u001b[0;32m     17\u001b[0m     current_streak \u001b[38;5;241m=\u001b[39m \u001b[38;5;241m0\u001b[39m\n",
      "\u001b[1;31mTypeError\u001b[0m: 'int' object is not callable"
     ]
    }
   ],
   "source": [
    "def simulate_limited_streaks(trials=100000, flips=50, max_streak=3):\n",
    "    success_count = 0\n",
    "\n",
    "    for _ in range(trials):\n",
    "        # Simulate 50 coin flips (1 = Heads, 0 = Tails)\n",
    "        coin_flips = np.random.randint(0, 2, flips)\n",
    "        \n",
    "        # Check if there is any streak of heads longer than max_streak\n",
    "        longest_streak = 0\n",
    "        current_streak = 0\n",
    "\n",
    "        for flip in coin_flips:\n",
    "            if flip == 1:  # If heads\n",
    "                current_streak += 1\n",
    "                longest_streak = max(longest_streak, current_streak)\n",
    "            else:  # If tails, reset streak\n",
    "                current_streak = 0\n",
    "        \n",
    "        # Count this trial as a success if the longest streak is ≤ max_streak\n",
    "        if longest_streak <= max_streak:\n",
    "            success_count += 1\n",
    "\n",
    "    return success_count / trials\n",
    "\n",
    "# Run simulation for no more than 3 consecutive heads\n",
    "probability_no_long_streaks = simulate_limited_streaks()\n",
    "probability_no_long_streaks\n"
   ]
  },
  {
   "cell_type": "code",
   "execution_count": 77,
   "metadata": {},
   "outputs": [
    {
     "data": {
      "text/plain": [
       "0.029"
      ]
     },
     "execution_count": 77,
     "metadata": {},
     "output_type": "execute_result"
    }
   ],
   "source": [
    "import numpy as np\n",
    "\n",
    "# Simulation parameters\n",
    "num_trials = 1_000  # Number of simulations\n",
    "num_flips = 50000  # Number of flips per trial\n",
    "streak_length = 20  # Desired streak of heads\n",
    "\n",
    "def has_streak(trial, streak_length):\n",
    "    \"\"\"Check if a given trial contains at least one streak of `streak_length` heads.\"\"\"\n",
    "    max_streak = 0\n",
    "    current_streak = 0\n",
    "    for flip in trial:\n",
    "        if flip == 1:  # 1 represents heads\n",
    "            current_streak += 1\n",
    "            if current_streak >= streak_length:\n",
    "                return True  # Found a valid streak\n",
    "        else:\n",
    "            current_streak = 0  # Reset streak\n",
    "    return False\n",
    "\n",
    "# Run simulations\n",
    "success_count = 0\n",
    "for _ in range(num_trials):\n",
    "    flips = np.random.randint(2, size=num_flips)  # Generate 50 random coin flips (0 = tails, 1 = heads)\n",
    "    if has_streak(flips, streak_length):\n",
    "        success_count += 1\n",
    "\n",
    "# Compute probability\n",
    "probability = success_count / num_trials\n",
    "probability\n"
   ]
  },
  {
   "cell_type": "code",
   "execution_count": null,
   "metadata": {},
   "outputs": [],
   "source": []
  }
 ],
 "metadata": {
  "kernelspec": {
   "display_name": "Python 3",
   "language": "python",
   "name": "python3"
  },
  "language_info": {
   "codemirror_mode": {
    "name": "ipython",
    "version": 3
   },
   "file_extension": ".py",
   "mimetype": "text/x-python",
   "name": "python",
   "nbconvert_exporter": "python",
   "pygments_lexer": "ipython3",
   "version": "3.12.3"
  }
 },
 "nbformat": 4,
 "nbformat_minor": 2
}
